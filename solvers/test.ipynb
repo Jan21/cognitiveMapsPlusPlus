{
 "cells": [
  {
   "cell_type": "code",
   "execution_count": 4,
   "id": "8c048d69",
   "metadata": {},
   "outputs": [
    {
     "name": "stdout",
     "output_type": "stream",
     "text": [
      "tensor(0.8500, dtype=torch.float64, grad_fn=<DotBackward0>)\n",
      "tensor([[1.8000, 0.4000, 0.0000]], dtype=torch.float64)\n"
     ]
    }
   ],
   "source": [
    "# Implicit manifold: unit sphere in R^3 => g(y) = [||y||^2 - 1]\n",
    "import torch\n",
    "def g(y: torch.Tensor) -> torch.Tensor:\n",
    "    result = y.dot(y) - 1.0\n",
    "    return result.view(1)  \n",
    "y = torch.tensor([0.9, 0.2, 0.0], dtype=torch.float64, device=torch.device(\"cpu\"))\n",
    "y = y.detach().requires_grad_(True)\n",
    "print(y.dot(y))\n",
    "# torch.autograd.functional.jacobian expects function -> tensor\n",
    "def g_single(z):\n",
    "    return g(z)\n",
    "J = torch.autograd.functional.jacobian(g_single, y, create_graph=False)\n",
    "J.detach()\n",
    "print(J)"
   ]
  }
 ],
 "metadata": {
  "kernelspec": {
   "display_name": "clean-framework",
   "language": "python",
   "name": "python3"
  },
  "language_info": {
   "codemirror_mode": {
    "name": "ipython",
    "version": 3
   },
   "file_extension": ".py",
   "mimetype": "text/x-python",
   "name": "python",
   "nbconvert_exporter": "python",
   "pygments_lexer": "ipython3",
   "version": "3.12.9"
  }
 },
 "nbformat": 4,
 "nbformat_minor": 5
}
